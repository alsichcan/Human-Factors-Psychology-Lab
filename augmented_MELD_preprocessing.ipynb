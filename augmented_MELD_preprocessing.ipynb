{
 "cells": [
  {
   "cell_type": "code",
   "execution_count": 1,
   "id": "a2e228bb",
   "metadata": {},
   "outputs": [],
   "source": [
    "emotions = {'neutral': 0, 'surprise': 1, 'fear': 2, 'sadness': 3, 'joy': 4, 'disgust': 5, 'anger': 6}"
   ]
  },
  {
   "cell_type": "code",
   "execution_count": 4,
   "id": "81207022",
   "metadata": {},
   "outputs": [
    {
     "data": {
      "text/plain": [
       "neutral     902\n",
       "joy         311\n",
       "anger       228\n",
       "surprise    214\n",
       "sadness     160\n",
       "fear         50\n",
       "disgust      39\n",
       "Name: Emotion, dtype: int64"
      ]
     },
     "execution_count": 4,
     "metadata": {},
     "output_type": "execute_result"
    }
   ],
   "source": [
    "import os\n",
    "\n",
    "import pandas as pd\n",
    "\n",
    "# Grouping Videos by Dialogue in video_data\n",
    "img_data = sorted(os.listdir(\"train_face\"), key = lambda x : (int(x.split(\"_\")[0][3:]), int(x.split(\"_\")[1][3:-4])))\n",
    "\n",
    "# Labeling Data\n",
    "df = pd.read_csv(\"train_data.csv\", sep=',')\n",
    "df[\"in\"] = False\n",
    "\n",
    "for i in range(len(img_data)):\n",
    "    d_id = int(img_data[i].split(\"_\")[0][3:])\n",
    "    u_id = int(img_data[i].split(\"_\")[1][3:-4])\n",
    "    df.loc[(df[\"Dialogue_ID\"] == d_id) & (df[\"Utterance_ID\"] == u_id), 'in'] = True\n",
    "        \n",
    "df = df.loc[df[\"in\"] == True]\n",
    "df['Emotion'].value_counts()\n",
    "df['Emotion']  = df['Emotion'].map(lambda x : emotions[x])\n",
    "# df = df[['Dialogue_ID', 'Utterance_ID', 'Speaker', 'Utterance', 'Emotion']]\n",
    "# df.to_csv(\"train_data_text.csv\")"
   ]
  },
  {
   "cell_type": "code",
   "execution_count": 5,
   "id": "3322a546",
   "metadata": {},
   "outputs": [],
   "source": [
    "import shutil\n",
    "\n",
    "img_data = sorted(os.listdir(\"test_face\"), key = lambda x : (int(x.split(\"_\")[0][3:]), int(x.split(\"_\")[1][3:-4])))\n",
    "df = pd.read_csv(\"test_data_text.csv\")\n",
    "\n",
    "\n",
    "for i in range(7):\n",
    "    if not os.path.isdir(os.path.join(\"test_face\", str(i))):\n",
    "        os.makedirs(os.path.join(\"test_face\", str(i)))\n",
    "\n",
    "for img in img_data:\n",
    "    d_id = int(img.split(\"_\")[0][3:])\n",
    "    u_id = int(img.split(\"_\")[1][3:-4])\n",
    "    emo  = df.loc[(df[\"Dialogue_ID\"] == d_id) & (df[\"Utterance_ID\"] == u_id)]['Emotion'].item()\n",
    "    shutil.move(os.path.join(\"test_face\", img), os.path.join(\"test_face\", str(emo), img))\n"
   ]
  },
  {
   "cell_type": "code",
   "execution_count": null,
   "id": "0b3fe705",
   "metadata": {},
   "outputs": [],
   "source": []
  }
 ],
 "metadata": {
  "kernelspec": {
   "display_name": "Python 3 (ipykernel)",
   "language": "python",
   "name": "python3"
  },
  "language_info": {
   "codemirror_mode": {
    "name": "ipython",
    "version": 3
   },
   "file_extension": ".py",
   "mimetype": "text/x-python",
   "name": "python",
   "nbconvert_exporter": "python",
   "pygments_lexer": "ipython3",
   "version": "3.9.7"
  }
 },
 "nbformat": 4,
 "nbformat_minor": 5
}
